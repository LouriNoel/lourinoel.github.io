{
 "cells": [
  {
   "cell_type": "markdown",
   "id": "reported-potential",
   "metadata": {},
   "source": [
    "# Cryptographie\n",
    "## TP 1\n",
    "### Louri Noël"
   ]
  },
  {
   "cell_type": "markdown",
   "id": "meaningful-county",
   "metadata": {},
   "source": [
    "### 0 - Imports"
   ]
  },
  {
   "cell_type": "code",
   "execution_count": 18,
   "id": "modern-province",
   "metadata": {},
   "outputs": [],
   "source": [
    "from typing import *"
   ]
  },
  {
   "cell_type": "markdown",
   "id": "sorted-twist",
   "metadata": {},
   "source": [
    "### 1 - L'algorithme d'Euclide (simple, récursif)"
   ]
  },
  {
   "cell_type": "code",
   "execution_count": 12,
   "id": "widespread-compact",
   "metadata": {},
   "outputs": [],
   "source": [
    "def euclide_simple(a: int, b: int) -> int:\n",
    "    \"\"\" Calcule le PGCD des entiers a et b. \"\"\"\n",
    "    a = abs(a)\n",
    "    b = abs(b)\n",
    "    if a < b:\n",
    "        a, b = b, a\n",
    "    # On a maintenant a et b positifs tels que a >= b\n",
    "    return euclide_simple_rec(a, b)\n",
    "\n",
    "def euclide_simple_rec(a: int, b: int) -> int:\n",
    "    \"\"\" Calcule le PGCD de a et de b.\n",
    "    Suppose que a et b sont positifs tels que a >= b. \"\"\"\n",
    "    if b == 0:\n",
    "        return a\n",
    "    \n",
    "    return euclide_simple_rec(b, a%b)"
   ]
  },
  {
   "cell_type": "code",
   "execution_count": 14,
   "id": "convinced-trauma",
   "metadata": {},
   "outputs": [
    {
     "name": "stdout",
     "output_type": "stream",
     "text": [
      "Le PGCD de -12 et de 30 est 6 .\n"
     ]
    }
   ],
   "source": [
    "a = -12\n",
    "b = 30\n",
    "print(f\"Le PGCD de {a} et de {b} est {euclide_simple(a, b)} .\")"
   ]
  },
  {
   "cell_type": "markdown",
   "id": "direct-thong",
   "metadata": {},
   "source": [
    "### 2 - L'algorithme d'Euclide (étendu, itératif)"
   ]
  },
  {
   "cell_type": "code",
   "execution_count": 22,
   "id": "beautiful-language",
   "metadata": {},
   "outputs": [],
   "source": [
    "def EuclideBezout(a: int, b: int) -> Tuple[int, int]:\n",
    "    return (a, b)"
   ]
  },
  {
   "cell_type": "code",
   "execution_count": null,
   "id": "frequent-focus",
   "metadata": {},
   "outputs": [],
   "source": []
  }
 ],
 "metadata": {
  "kernelspec": {
   "display_name": "Python 3",
   "language": "python",
   "name": "python3"
  },
  "language_info": {
   "codemirror_mode": {
    "name": "ipython",
    "version": 3
   },
   "file_extension": ".py",
   "mimetype": "text/x-python",
   "name": "python",
   "nbconvert_exporter": "python",
   "pygments_lexer": "ipython3",
   "version": "3.8.0"
  }
 },
 "nbformat": 4,
 "nbformat_minor": 5
}
