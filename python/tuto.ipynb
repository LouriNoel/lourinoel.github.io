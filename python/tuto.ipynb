{
 "cells": [
  {
   "cell_type": "markdown",
   "id": "widespread-pixel",
   "metadata": {},
   "source": [
    "# Tutoriel Python 3\n",
    "## Par Louri Noël"
   ]
  },
  {
   "cell_type": "markdown",
   "id": "external-deadline",
   "metadata": {},
   "source": [
    "### 0 - Jupyter / SageMath"
   ]
  },
  {
   "cell_type": "markdown",
   "id": "laden-control",
   "metadata": {},
   "source": [
    "Pour l'environnement de développement, je recommande PyCharm https://www.jetbrains.com/fr-fr/pycharm/download/#section=windows\n",
    "\n",
    "Pour jupyter c'est par ici https://jupyter.org/install.html#getting-started-with-the-classic-jupyter-notebook\n",
    "\n",
    "Pour SageMath c'est par là :\n",
    "\n",
    "    windows: https://github.com/sagemath/sage-windows/releases\n",
    "\n",
    "    autres:  https://www.sagemath.org/download.html"
   ]
  },
  {
   "cell_type": "markdown",
   "id": "indian-protection",
   "metadata": {},
   "source": [
    "### 0 - Les bases"
   ]
  },
  {
   "cell_type": "markdown",
   "id": "compatible-chambers",
   "metadata": {},
   "source": [
    "Les commentaires :"
   ]
  },
  {
   "cell_type": "code",
   "execution_count": 1,
   "id": "hazardous-election",
   "metadata": {},
   "outputs": [
    {
     "data": {
      "text/plain": [
       "' En voila un\\nsur plusieurs\\nlignes. '"
      ]
     },
     "execution_count": 1,
     "metadata": {},
     "output_type": "execute_result"
    }
   ],
   "source": [
    "# Ceci est un commentaire sur une ligne\n",
    "\n",
    "\"\"\" En voila un\n",
    "sur plusieurs\n",
    "lignes. \"\"\""
   ]
  },
  {
   "cell_type": "markdown",
   "id": "essential-continent",
   "metadata": {},
   "source": [
    "L'exécution d'un code python se fait de haut en bas. Tout le code qui n'est ni dans une classe, ni dans une fonction, est exécuté. Il est d'usage de tout mettre dans des classes ou des fonctions, et de définir le point d'entrée (si besoin est) à la fin du fichier avec :"
   ]
  },
  {
   "cell_type": "code",
   "execution_count": 2,
   "id": "nutritional-arctic",
   "metadata": {},
   "outputs": [],
   "source": [
    "if __name__ == '__main__': # __name__ est une variable spéciale définie à l'exécution\n",
    "    # ... du code exécuté directement, appels de fonction...\n",
    "    pass # ne rien faire. Seulement nécessaire pour laisser une fonction ou une classe vide comme ici"
   ]
  },
  {
   "cell_type": "markdown",
   "id": "difficult-spyware",
   "metadata": {},
   "source": [
    "On peut importer du code extérieur défini dans ce qu'on appelle des <i>modules</i>."
   ]
  },
  {
   "cell_type": "code",
   "execution_count": 3,
   "id": "nutritional-grammar",
   "metadata": {},
   "outputs": [],
   "source": [
    "import os # importation d'un module\n",
    "# on pourra utiliser la fonction exists() avec : os.path.exists(some_path_here)\n",
    "\n",
    "import os.path\n",
    "# on pourra utiliser la fonction exists() avec : path.exists(some_path_here)\n",
    "\n",
    "from os import path # importation d'un sous-module : from module import sous_module\n",
    "# on pourra utiliser la fonction exists() avec : path.exists(some_path_here)\n",
    "\n",
    "from os.path import exists # ça marche aussi avec des classes ou des fonctions à la place d'un sous-module\n",
    "# on pourra utiliser la fonction exists() avec : exists(some_path_here)\n",
    "\n",
    "from random import randint, choice # on peut importer plusieurs sous-modules à la suite"
   ]
  },
  {
   "cell_type": "markdown",
   "id": "higher-recipient",
   "metadata": {},
   "source": [
    "Pour créer son propre module et l'utiliser dans un autre fichier (qui ont d'ailleurs l'extension .py), il faut créer un dossier (par exemple <i>mon_module</i>) et y créer un fichier vide nommé <i>\\_\\_init\\_\\_.py</i> avec deux underscores de chaque côté. On pourra alors y créer nos fichiers (par exemple <i>mon_fichier.py</i>) avec des fonctions (par exemple <i>ma_fonction</i>) et l'utiliser avec :"
   ]
  },
  {
   "cell_type": "code",
   "execution_count": 4,
   "id": "harmful-campbell",
   "metadata": {},
   "outputs": [
    {
     "ename": "ModuleNotFoundError",
     "evalue": "No module named 'mon_module'",
     "output_type": "error",
     "traceback": [
      "\u001b[1;31m---------------------------------------------------------------------------\u001b[0m",
      "\u001b[1;31mModuleNotFoundError\u001b[0m                       Traceback (most recent call last)",
      "\u001b[1;32m<ipython-input-4-e04c14a451ae>\u001b[0m in \u001b[0;36m<module>\u001b[1;34m\u001b[0m\n\u001b[1;32m----> 1\u001b[1;33m \u001b[1;32mfrom\u001b[0m \u001b[0mmon_module\u001b[0m \u001b[1;32mimport\u001b[0m \u001b[0mmon_fichier\u001b[0m\u001b[1;33m\u001b[0m\u001b[1;33m\u001b[0m\u001b[0m\n\u001b[0m\u001b[0;32m      2\u001b[0m \u001b[0mmon_fichier\u001b[0m\u001b[1;33m.\u001b[0m\u001b[0mma_fonction\u001b[0m\u001b[1;33m(\u001b[0m\u001b[1;33m)\u001b[0m\u001b[1;33m\u001b[0m\u001b[1;33m\u001b[0m\u001b[0m\n",
      "\u001b[1;31mModuleNotFoundError\u001b[0m: No module named 'mon_module'"
     ]
    }
   ],
   "source": [
    "from mon_module import mon_fichier\n",
    "mon_fichier.ma_fonction()"
   ]
  },
  {
   "cell_type": "markdown",
   "id": "raising-journal",
   "metadata": {},
   "source": [
    "Python est un langage de scripts, il n'y a pas de compilation préalable, le code s'exécute dans un interpréteur. La plupart du temps, il n'y a pas besoin de parenthèses ou d'accolades comme en C ou en Java : on rentre dans un bloc de code avec le caractère deux-points ':' et le bloc en lui-même est indenté avec soit 4 espaces soit une tabulation (mais attention, ne pas mélanger les deux dans le même fichier). Voir la partie concernant les conditions, boucles, fonctions et classes."
   ]
  },
  {
   "cell_type": "markdown",
   "id": "dental-optics",
   "metadata": {},
   "source": [
    "Il n'y a pas non plus de point virgule ';' à la fin des instructions. Chaque instruction prends une ligne. Si une instruction est trop longue, elle peut être séparée en plusieurs lignes en mettant un antislash \\\\ à la fin de chaque ligne coupée (et il est d'usage d'indenter les suivantes). S'il s'agit d'un appel de fonction, il d'y a pas besoin d'antislash pour couper dans la suite d'arguments (car les parenthèses suffisent à délimiter)."
   ]
  },
  {
   "cell_type": "markdown",
   "id": "electric-moldova",
   "metadata": {},
   "source": [
    "Conventions usuelles de nommage en Python (libre à vous de les utiliser ou non) : les constantes en majuscules, les classes en CamelCase, les fonctions et variables avec des underscores.\n",
    "\n",
    "Voir aussi https://www.python.org/dev/peps/pep-0008/#naming-conventions"
   ]
  },
  {
   "cell_type": "code",
   "execution_count": 47,
   "id": "round-parliament",
   "metadata": {},
   "outputs": [],
   "source": [
    "MY_CONSTANT = 1337\n",
    "\n",
    "class MyClass:\n",
    "    pass\n",
    "\n",
    "def my_function():\n",
    "    pass\n",
    "\n",
    "my_var = 4"
   ]
  },
  {
   "cell_type": "markdown",
   "id": "dependent-grave",
   "metadata": {},
   "source": [
    "### 1 - Les variables, types, structures de données"
   ]
  },
  {
   "cell_type": "markdown",
   "id": "incoming-replica",
   "metadata": {},
   "source": [
    "#### o) préambule"
   ]
  },
  {
   "cell_type": "markdown",
   "id": "cross-mitchell",
   "metadata": {},
   "source": [
    "Les variables ne sont pas typées : elles peuvent contenir n'importe quoi. Cependant les valeurs contenues ont bien un type associé."
   ]
  },
  {
   "cell_type": "markdown",
   "id": "directed-barrier",
   "metadata": {},
   "source": [
    "Il n'y a pas de notion de final ou de constante. On écrit tout en majuscule pour le signifier."
   ]
  },
  {
   "cell_type": "code",
   "execution_count": 44,
   "id": "educated-singles",
   "metadata": {},
   "outputs": [],
   "source": [
    "MA_VARIABLE = 1337 # on indique qu'on veut qu'elle soit constante, mais rien n'empêche de la modifier"
   ]
  },
  {
   "cell_type": "markdown",
   "id": "committed-context",
   "metadata": {},
   "source": [
    "#### a) affectation"
   ]
  },
  {
   "cell_type": "markdown",
   "id": "prostate-symbol",
   "metadata": {},
   "source": [
    "L'affectation est usuelle. Une nouvelle affectation écrasera la valeur précédente. Une variable peut ainsi contenir des valeurs de type différent."
   ]
  },
  {
   "cell_type": "code",
   "execution_count": 5,
   "id": "statutory-rehabilitation",
   "metadata": {},
   "outputs": [
    {
     "name": "stdout",
     "output_type": "stream",
     "text": [
      "2\n",
      "True\n",
      "blabla\n",
      "<class 'str'>\n"
     ]
    }
   ],
   "source": [
    "myvar = 2\n",
    "print(myvar) # affiche 2\n",
    "myvar = True\n",
    "print(myvar) # affiche True\n",
    "myvar = \"blabla\"\n",
    "print(myvar) # affiche blabla\n",
    "print(type(myvar)) # type() pour obtenir le type de la valeur"
   ]
  },
  {
   "cell_type": "markdown",
   "id": "interracial-labor",
   "metadata": {},
   "source": [
    "<i>None</i> est utilisé pour signifier \"pas de valeur\". Un objet None n'a aucune méthode."
   ]
  },
  {
   "cell_type": "code",
   "execution_count": 30,
   "id": "fifth-situation",
   "metadata": {},
   "outputs": [
    {
     "name": "stdout",
     "output_type": "stream",
     "text": [
      "None\n",
      "<class 'NoneType'>\n"
     ]
    }
   ],
   "source": [
    "a = None\n",
    "print(a)\n",
    "print(type(a)) # de type NoneType"
   ]
  },
  {
   "cell_type": "markdown",
   "id": "crazy-poland",
   "metadata": {},
   "source": [
    "Affectation simultanée :"
   ]
  },
  {
   "cell_type": "code",
   "execution_count": 6,
   "id": "following-implement",
   "metadata": {},
   "outputs": [
    {
     "name": "stdout",
     "output_type": "stream",
     "text": [
      "2 3\n",
      "3 2\n"
     ]
    }
   ],
   "source": [
    "a, b = 2, 3 # a vaut 2 et b vaut 3\n",
    "print(a, b)\n",
    "\n",
    "# échange : a vaut 3 et b vaut 2, pas besoin de variable intermédiaire\n",
    "a, b = b, a\n",
    "print(a, b)"
   ]
  },
  {
   "cell_type": "markdown",
   "id": "defensive-mountain",
   "metadata": {},
   "source": [
    "#### b) comparaisons"
   ]
  },
  {
   "cell_type": "markdown",
   "id": "dependent-taylor",
   "metadata": {},
   "source": [
    "Comparaisons par valeur : les opérateurs usuels sont disponibles : ==, !=, <, <=, >, >=.\n",
    "\n",
    "Attention : le == de Python est équivalent au equals() du Java."
   ]
  },
  {
   "cell_type": "code",
   "execution_count": 33,
   "id": "worst-twenty",
   "metadata": {},
   "outputs": [
    {
     "name": "stdout",
     "output_type": "stream",
     "text": [
      "False\n",
      "True\n"
     ]
    }
   ],
   "source": [
    "s = \"bla\"\n",
    "t = \"bla\"\n",
    "print(s == t) # affiche True : compare les valeurs"
   ]
  },
  {
   "cell_type": "markdown",
   "id": "confirmed-average",
   "metadata": {},
   "source": [
    "Comparaison des objets : on utilise les opérateurs <i>is</i> et <i>is not</i> (qui sont équivalents aux == et != du java)\n",
    "\n",
    "Attention : les entiers, flottants et chaînes de caractères sont toujours comparés par valeur."
   ]
  },
  {
   "cell_type": "code",
   "execution_count": 41,
   "id": "stylish-activation",
   "metadata": {},
   "outputs": [
    {
     "name": "stdout",
     "output_type": "stream",
     "text": [
      "1 True\n",
      "2 False\n",
      "3 True\n",
      "4 True\n",
      "5 True\n",
      "6 False\n",
      "7 True\n"
     ]
    }
   ],
   "source": [
    "u = [1, 2, 3]\n",
    "v = [1, 2, 3]\n",
    "print(\"1\", u == v)     # True\n",
    "print(\"2\", u is v)     # False\n",
    "print(\"3\", u is not v) # True\n",
    "\n",
    "a, b = 1, 1\n",
    "print(\"4\", a is b) # True\n",
    "\n",
    "a, b = 1, 1.0\n",
    "print(\"5\", a == b) # True\n",
    "print(\"6\", a is b) # False car de type différent\n",
    "\n",
    "a, b = \"bla\", 'bla'\n",
    "print(\"7\", a is b) # attention : True"
   ]
  },
  {
   "cell_type": "markdown",
   "id": "growing-cornwall",
   "metadata": {},
   "source": [
    "#### c) types et structures"
   ]
  },
  {
   "cell_type": "markdown",
   "id": "corrected-portal",
   "metadata": {},
   "source": [
    "Les booléens : attention, la première lettre est en majuscule. Les opérateurs sont and, or, not."
   ]
  },
  {
   "cell_type": "code",
   "execution_count": 8,
   "id": "resident-asset",
   "metadata": {},
   "outputs": [],
   "source": [
    "t = True\n",
    "f = False\n",
    "a = True and False # pas de && : on utilise and\n",
    "o = True or False  # pas de || : on utilise or\n",
    "n = not True       # pas de ! : on utilise not"
   ]
  },
  {
   "cell_type": "markdown",
   "id": "loose-brick",
   "metadata": {},
   "source": [
    "Les entiers et flottants : les opérations usuelles sont disponibles. Il n'y a pas de limite de taille sur les entiers (mais il y en a une sur les flottants)."
   ]
  },
  {
   "cell_type": "code",
   "execution_count": 15,
   "id": "alien-avenue",
   "metadata": {},
   "outputs": [
    {
     "name": "stdout",
     "output_type": "stream",
     "text": [
      "3.1416\n",
      "0b1010\n",
      "1j -1j\n"
     ]
    }
   ],
   "source": [
    "a = 2 + 3   # a vaut 5\n",
    "a = a + 5.2 # a vaut 10.2\n",
    "a += 3.8    # a vaut 14.0 : garde le type flottant\n",
    "# /!\\ il n'y a pas de a++ contrairement au c\n",
    "\n",
    "d = 2**3      # 2 puissance 3 : d vaut 8\n",
    "d = pow(2, 3) # idem, d'ailleurs les deux méthodes marchent aussi avec des flottants\n",
    "\n",
    "b = a // 3  # division euclidienne, b vaut 4.0\n",
    "c = a % 3   # reste de la division euclidienne, c vaut 2.0\n",
    "\n",
    "# math.floor() et math.ceil() pour les parties entières\n",
    "import math\n",
    "print(round(math.pi, 4)) # affiche 3.1415 : arrondi un flottant à n décimales\n",
    "\n",
    "print(bin(10)) # donne un string \"0b1010\" de la représentation binaire du nombre donné\n",
    "\n",
    "really_big = 2e57 # un 2 et 57 zéros, flottant, donc vaut 20000.....0000.0\n",
    "\n",
    "i = complex(0, 1) # les nombres complexes sont natifs : complex(partie réelle, partie imaginaire)\n",
    "moins_i = i.conjugate()\n",
    "print(i, moins_i)"
   ]
  },
  {
   "cell_type": "markdown",
   "id": "spread-clarity",
   "metadata": {},
   "source": [
    "Les caractères et chaînes de caractères : on peut utiliser indifféremment les guillemets <i>'</i> ou les doubles guillemets <i>\"</i>, inclure les uns dans les autres... Comme d'habitude, le caractère d'échappement est l'antislash \\\\ et (entre autres) les caractères spéciaux \\\\n et \\\\t sont supportés."
   ]
  },
  {
   "cell_type": "code",
   "execution_count": 10,
   "id": "running-venezuela",
   "metadata": {},
   "outputs": [],
   "source": [
    "c = 'a' # caractère\n",
    "# mélange\n",
    "s = \"Comme d'habitude j'ai \" + 'très peu dormi. \"baille\" ! '\n",
    "longueur = len(s) # obtenir la longueur du string\n",
    "s = \"/\".join([\"2021\", \"02\", \"08\"]) # s vaut \"2021/02/08\"\n",
    "# autres méthodes : index, count, find, replace, startswith, endswith\n",
    "# lower, upper, split, strip, ...\n",
    "s = \"\" # string/caractère vide"
   ]
  },
  {
   "cell_type": "markdown",
   "id": "designed-grammar",
   "metadata": {},
   "source": [
    "Les tuples : ce sont des n-uplets d'éléments (ordonné, doublons possibles). Les éléments peuvent être de type différent."
   ]
  },
  {
   "cell_type": "code",
   "execution_count": 19,
   "id": "uniform-northern",
   "metadata": {},
   "outputs": [
    {
     "name": "stdout",
     "output_type": "stream",
     "text": [
      "(1, 'bla', 3, 'zut', 3)\n",
      "(1, 2, 3)\n",
      "1 2 3\n",
      "True\n"
     ]
    }
   ],
   "source": [
    "t = (1, \"bla\", 3, \"zut\", 3)\n",
    "print(t)\n",
    "t = 1, 2, 3 # marche aussi\n",
    "print(t)\n",
    "a, b, c = t # affectation avec les éléments du tuple, il doit y avoir le même nombre d'éléments de chaque côté\n",
    "print(a, b, c)\n",
    "vide = ()\n",
    "singleton = (1,) # avec un seul élément\n",
    "a = (3, 4) + (1, 2) # a vaut (3, 4, 1, 2)\n",
    "print(2 in a) # affiche True : 2 est bien dans a"
   ]
  },
  {
   "cell_type": "markdown",
   "id": "psychological-spectrum",
   "metadata": {},
   "source": [
    "Les listes / tableaux : pas de différence en python, ensemble ordonné d'éléments. Les indices commencent à 0. Le séparateur est la virgule. Peut contenir des éléments de type différent. On peut accéder au dernier élément avec l'indice -1, à l'avant-dernier avec -2, etc.\n",
    "\n",
    "Plus d'infos : https://docs.python.org/3/tutorial/datastructures.html"
   ]
  },
  {
   "cell_type": "code",
   "execution_count": 1,
   "id": "through-binding",
   "metadata": {},
   "outputs": [
    {
     "name": "stdout",
     "output_type": "stream",
     "text": [
      "2\n",
      "True\n",
      "5 4\n",
      "a23\n"
     ]
    }
   ],
   "source": [
    "tab = [2, \"bla\", 4]\n",
    "tab.append(5) # ajout à la fin, tab vaut [2, \"bla\", 4, 5]\n",
    "print(tab[0]) # affiche 2\n",
    "e = tab.pop()   # retire le dernier élément, e vaut 5, tab vaut [2, \"bla\", 4]\n",
    "t = [2, 3] + [4, 5] # t vaut [2, 3, 4, 5]\n",
    "# autres méthodes : find, count, sort, copy, clear, insert, remove, reverse\n",
    "print(2 in tab) # affiche True : tab contient bien 2\n",
    "\n",
    "print(t[-1], t[-2]) # affiche le dernier et l'avant-dernier élément\n",
    "\n",
    "matrix = [\n",
    "    [\"a11\", \"a12\", \"a13\"], \n",
    "    [\"a21\", \"a22\", \"a23\"]] # double tableau = tableau de lignes\n",
    "print(matrix[1][2]) # affiche a23 : 2ème ligne (indice 1), 3ème colonne (indice 2)"
   ]
  },
  {
   "cell_type": "markdown",
   "id": "indirect-fruit",
   "metadata": {},
   "source": [
    "Slicing : permet de ne prendre qu'une partie d'une liste, d'un tuple ou d'un string. La borne inférieure est incluse, la borne supérieure est exclue."
   ]
  },
  {
   "cell_type": "code",
   "execution_count": 27,
   "id": "sophisticated-indiana",
   "metadata": {},
   "outputs": [
    {
     "name": "stdout",
     "output_type": "stream",
     "text": [
      "ze\n",
      "zer\n",
      "zerty\n",
      "aze\n",
      "azerty\n",
      "aet\n"
     ]
    }
   ],
   "source": [
    "t = \"azerty\"\n",
    "print(t[1:3])  # affiche \"ze\"\n",
    "print(t[1:-2]) # affiche \"zer\" : s'arrête à l'avant-dernier élément (qui est exclu)\n",
    "print(t[1:])   # affiche \"zerty\" : va jusqu'à la fin\n",
    "print(t[:3])   # affiche aze : part du début et va jusqu'à l'élément d'indice indiqué (exclu)\n",
    "print(t[:])    # affiche azerty, affiche tout, ne sert à rien en fait\n",
    "print(t[::2])  # affiche aet : de la borne inférieure à la borne supérieure (exclue) avec un pas de 2"
   ]
  },
  {
   "cell_type": "markdown",
   "id": "gothic-blair",
   "metadata": {},
   "source": [
    "Les sets : ensembles non ordonnés d'éléments, pas de doublons. Peut contenir des éléments de type différent."
   ]
  },
  {
   "cell_type": "code",
   "execution_count": 13,
   "id": "after-thickness",
   "metadata": {},
   "outputs": [
    {
     "name": "stdout",
     "output_type": "stream",
     "text": [
      "True\n"
     ]
    }
   ],
   "source": [
    "a = {4, 3, 2} # à directement\n",
    "b = set([4, 5, 6]) # à partir d'un tableau\n",
    "vide = set() # impossible d'utiliser {}\n",
    "c = a | b # union, c vaut {2, 3, 4, 5, 6} (le 4 n'appparaît qu'une fois)\n",
    "d = c - {3} # différence, d vaut {2, 4, 5, 6}\n",
    "# méthodes : copy, add, union, intersection, difference...\n",
    "print(2 in d) # affiche True : d contient bien 2"
   ]
  },
  {
   "cell_type": "markdown",
   "id": "satellite-piece",
   "metadata": {},
   "source": [
    "Les dictionnaires : associe des valeurs à des clés. Les clés peuvent être de type différent, et les valeurs aussi. Les clés sont uniques."
   ]
  },
  {
   "cell_type": "code",
   "execution_count": 3,
   "id": "requested-victory",
   "metadata": {},
   "outputs": [
    {
     "name": "stdout",
     "output_type": "stream",
     "text": [
      "True\n",
      "True\n",
      "True\n",
      "True\n",
      "12\n",
      "12\n"
     ]
    }
   ],
   "source": [
    "vide = {} # dictionnaire vide\n",
    "d = {\"a\": 1, 100: \"cent\"}\n",
    "d = dict([(\"a\", 1), (100, \"cent\")]) # ou encore\n",
    "d = dict(foo=1, bar=\"truc\") # si les clés sont des identifiants valides\n",
    "\n",
    "print(\"foo\" in d) # affiche True, attention : recherche sur les clés\n",
    "print(\"foo\" in d.keys()) # équivalent à ci-dessus, keys() renvoit une liste des clés\n",
    "print(\"truc\" in d.values()) # affiche True, values() renvoit la liste des valeurs\n",
    "print((\"foo\", 1) in d.items()) # affiche True, items() renvoit la liste des couples (clé, valeur)\n",
    "\n",
    "d[\"foo\"] = 12 # affectation à une clé existante\n",
    "d[\"n'existait pas\"] = 15 # marche aussi pour une clé qui n'existait pas\n",
    "# d[\"error\"] += 2 # KeyError si autre chose qu'une affectation pour une clé qui n'existe pas\n",
    "\n",
    "print(d[\"foo\"]) # affiche la valeur associée à la clé foo\n",
    "print(d.get(\"foo\")) # marche aussi"
   ]
  },
  {
   "cell_type": "markdown",
   "id": "prepared-tackle",
   "metadata": {},
   "source": [
    "### 2 - Les conditions (if/else)"
   ]
  },
  {
   "cell_type": "markdown",
   "id": "governmental-employee",
   "metadata": {},
   "source": [
    "Pas besoin de parenthèses, ni d'accolades. On indente l'intérieur du if. Attention au else-if : il faut utiliser le mot-clé elif."
   ]
  },
  {
   "cell_type": "code",
   "execution_count": 24,
   "id": "mobile-standing",
   "metadata": {},
   "outputs": [
    {
     "name": "stdout",
     "output_type": "stream",
     "text": [
      "vaut 5\n",
      "Ceci est a l'extérieur du if-elif-else.\n"
     ]
    }
   ],
   "source": [
    "a = 2 + 3\n",
    "if a == 5:\n",
    "    print(\"vaut 5\")\n",
    "elif a == 2:\n",
    "    print(\"vaut 2\")\n",
    "else:\n",
    "    print(\"vaut ni 5 ni 2\")\n",
    "print(\"Ceci est à l'extérieur du if-elif-else.\")"
   ]
  },
  {
   "cell_type": "code",
   "execution_count": 23,
   "id": "reasonable-packet",
   "metadata": {},
   "outputs": [
    {
     "name": "stdout",
     "output_type": "stream",
     "text": [
      "5 est dans t\n",
      "bla est dans t\n"
     ]
    }
   ],
   "source": [
    "t = [2, \"bla\", 5]\n",
    "if 5 in t:\n",
    "    print(\"5 est dans t\")\n",
    "\n",
    "b = (t[1] == \"bla\") # parenthèses optionnelles, c'est un booléen\n",
    "if b :\n",
    "    print(\"bla est dans t\")"
   ]
  },
  {
   "cell_type": "code",
   "execution_count": 31,
   "id": "controlling-rider",
   "metadata": {},
   "outputs": [
    {
     "name": "stdout",
     "output_type": "stream",
     "text": [
      "tous sont vides\n"
     ]
    }
   ],
   "source": [
    "# évaluation booléenne des différents types\n",
    "n = None  # pas de valeur\n",
    "b = False # booléen\n",
    "i = 0     # entier (les flottants marchent pareil)\n",
    "s = \"\"    # string/caractère\n",
    "t = []    # liste/tableau\n",
    "u = ()    # tuple\n",
    "e = set() # set\n",
    "d = {}    # dictionnaire\n",
    "if n or b or i or s or t or u or e or d:\n",
    "    print(\"l'un d'eux est non vide\") # serait affiché avec n'importe quelle valeur non vide\n",
    "else:\n",
    "    print(\"tous sont vides\") # c'est lui qui est affiché"
   ]
  },
  {
   "cell_type": "markdown",
   "id": "chubby-census",
   "metadata": {},
   "source": [
    "Remarque : on préfère tester explicitement pour la valeur None au lieu de faire comme ci-dessus, afin de différencier \"pas de valeur\" de \"est vide\" ou même de \"vaut 0\" pour les entiers et flottants, et afin de savoir si on peut utiliser des méthodes sur l'objet renfermé."
   ]
  },
  {
   "cell_type": "code",
   "execution_count": 43,
   "id": "employed-membership",
   "metadata": {},
   "outputs": [
    {
     "name": "stdout",
     "output_type": "stream",
     "text": [
      "Il n'y a rien à afficher.\n"
     ]
    }
   ],
   "source": [
    "a = None\n",
    "if a is None:\n",
    "    print(\"Il n'y a rien à afficher.\")\n",
    "else:\n",
    "    print(a + 3) # On s'attendait à un nombre, cela déclencherait une erreur avec None"
   ]
  },
  {
   "cell_type": "markdown",
   "id": "premier-still",
   "metadata": {},
   "source": [
    "En python, il n'y a pas de <i>switch</i>. Par contre les successions de elif sont rapides, et il n'y a pas besoin de <i>break</i>."
   ]
  },
  {
   "cell_type": "markdown",
   "id": "indoor-mechanism",
   "metadata": {},
   "source": [
    "<b>Avancé :</b> opérateur ternaire."
   ]
  },
  {
   "cell_type": "code",
   "execution_count": 49,
   "id": "qualified-desperate",
   "metadata": {},
   "outputs": [
    {
     "name": "stdout",
     "output_type": "stream",
     "text": [
      "a est multiple de 3\n"
     ]
    }
   ],
   "source": [
    "a = 12\n",
    "# Python : value_if_true if condition else value_if_false\n",
    "# C : condition ? value_if_true : value_if_false\n",
    "s = \"a est multiple de 3\" if a%3 == 0 else \"a n'est pas multiple de 3\"\n",
    "print(s)"
   ]
  },
  {
   "cell_type": "markdown",
   "id": "revised-ozone",
   "metadata": {},
   "source": [
    "### 3 - Les boucles"
   ]
  },
  {
   "cell_type": "markdown",
   "id": "colonial-rogers",
   "metadata": {},
   "source": [
    "La boucle while : comme d'habitude."
   ]
  },
  {
   "cell_type": "code",
   "execution_count": 4,
   "id": "plain-february",
   "metadata": {},
   "outputs": [
    {
     "name": "stdout",
     "output_type": "stream",
     "text": [
      "0 1 2 3 4 "
     ]
    }
   ],
   "source": [
    "i = 0\n",
    "while i < 5:\n",
    "    print(i, end=\" \")\n",
    "    i += 1 # attention : pas de i++ en Python"
   ]
  },
  {
   "cell_type": "markdown",
   "id": "elder-stability",
   "metadata": {},
   "source": [
    "La boucle for : de la borne inférieure incluse à la borne supérieure exclue, avec un pas optionnel"
   ]
  },
  {
   "cell_type": "code",
   "execution_count": 5,
   "id": "numeric-gnome",
   "metadata": {},
   "outputs": [
    {
     "name": "stdout",
     "output_type": "stream",
     "text": [
      "0 1 2 3 4 "
     ]
    }
   ],
   "source": [
    "for i in range(0, 5): # Équivalent au while ci-dessus.\n",
    "    print(i, end=\" \")"
   ]
  },
  {
   "cell_type": "code",
   "execution_count": 1,
   "id": "surgical-copying",
   "metadata": {},
   "outputs": [
    {
     "name": "stdout",
     "output_type": "stream",
     "text": [
      "0 1 2 3 4 "
     ]
    }
   ],
   "source": [
    "for i in range(5): # On peut omettre le début : commencera alors à 0 par défaut\n",
    "    print(i, end=\" \")"
   ]
  },
  {
   "cell_type": "code",
   "execution_count": 6,
   "id": "underlying-arabic",
   "metadata": {},
   "outputs": [
    {
     "name": "stdout",
     "output_type": "stream",
     "text": [
      "0 2 4 6 8 "
     ]
    }
   ],
   "source": [
    "for i in range(0, 10, 2): # incrémente de 2 à chaque fois\n",
    "    print(i, end=\" \") # n'affichera pas 10"
   ]
  },
  {
   "cell_type": "code",
   "execution_count": 7,
   "id": "simplified-wilson",
   "metadata": {},
   "outputs": [
    {
     "name": "stdout",
     "output_type": "stream",
     "text": [
      "5 4 3 2 1 "
     ]
    }
   ],
   "source": [
    "for i in range(5, 0, -1): # et à l'envers !\n",
    "    print(i, end=\" \") # affichera 5, mais pas 0"
   ]
  },
  {
   "cell_type": "code",
   "execution_count": 5,
   "id": "structured-bermuda",
   "metadata": {},
   "outputs": [
    {
     "name": "stdout",
     "output_type": "stream",
     "text": [
      "avant : 0 après : 10\n",
      "avant : 1 après : 11\n",
      "avant : 2 après : 12\n",
      "avant : 3 après : 13\n",
      "avant : 4 après : 14\n",
      "au final : 14\n"
     ]
    }
   ],
   "source": [
    "# Contrairement aux autres langages, les modifications du compteur sont écrasées à chaque itération\n",
    "for i in range(0, 5):\n",
    "    print(\"avant :\", i, end=\" \")\n",
    "    i = i + 10\n",
    "    print(\"après :\", i)\n",
    "print(\"au final :\", i)"
   ]
  },
  {
   "cell_type": "markdown",
   "id": "built-project",
   "metadata": {},
   "source": [
    "Pour quitter une boucle : break (sort de LA boucle la plus \"proche\", pas des autres si elle est imbriquée)"
   ]
  },
  {
   "cell_type": "code",
   "execution_count": 8,
   "id": "bearing-hughes",
   "metadata": {},
   "outputs": [
    {
     "name": "stdout",
     "output_type": "stream",
     "text": [
      "1 2 3 4 5 "
     ]
    }
   ],
   "source": [
    "i = 0\n",
    "while True:\n",
    "    i += 1\n",
    "    print(i, end=\" \")\n",
    "    if i >= 5:\n",
    "        break  # marche aussi avec les boucles for"
   ]
  },
  {
   "cell_type": "markdown",
   "id": "adjacent-librarian",
   "metadata": {},
   "source": [
    "Parcours d'un tuple, d'un tableau ou d'un string :"
   ]
  },
  {
   "cell_type": "code",
   "execution_count": 71,
   "id": "internal-electric",
   "metadata": {},
   "outputs": [
    {
     "name": "stdout",
     "output_type": "stream",
     "text": [
      "a b c \n",
      "1 2 3 "
     ]
    }
   ],
   "source": [
    "u = (\"a\", \"b\", \"c\")\n",
    "for e in u:\n",
    "    print(e, end=\" \")\n",
    "print(\"\")\n",
    "\n",
    "t = [1, 2, 3]\n",
    "for e in t:\n",
    "    print(e, end=\" \")"
   ]
  },
  {
   "cell_type": "markdown",
   "id": "multiple-access",
   "metadata": {},
   "source": [
    "Parcours de dictionnaire :"
   ]
  },
  {
   "cell_type": "code",
   "execution_count": 72,
   "id": "expensive-maldives",
   "metadata": {},
   "outputs": [
    {
     "name": "stdout",
     "output_type": "stream",
     "text": [
      "a b c \n",
      "10 20 30 \n",
      "a 10 | b 20 | c 30 | "
     ]
    }
   ],
   "source": [
    "d = {\"a\":10, \"b\":20, \"c\":30}\n",
    "for key in d: # attention : parcours les clés !\n",
    "    print(key, end=\" \")\n",
    "print(\"\")\n",
    "\n",
    "for value in d.values(): # il faut faire ça pour parcourir les valeurs\n",
    "    print(value, end=\" \")\n",
    "print(\"\")\n",
    "\n",
    "for key, value in d.items(): # pour parcourir les clés et les valeurs à la fois\n",
    "    print(key, value, end=\" | \")"
   ]
  },
  {
   "cell_type": "markdown",
   "id": "antique-wright",
   "metadata": {},
   "source": [
    "### 4 - Les fonctions"
   ]
  },
  {
   "cell_type": "code",
   "execution_count": 9,
   "id": "invisible-scratch",
   "metadata": {},
   "outputs": [],
   "source": [
    "def fonction_sans_arguments_ni_retour():\n",
    "    print(\"faire des trucs\")\n",
    "\n",
    "def fonction_avec_parametres(arg1, arg2, arg3):\n",
    "    print(arg1, arg2, arg3)\n",
    "\n",
    "def fonction_avec_retour(arg1, arg2):\n",
    "    return arg1 + arg2\n",
    "\n",
    "def fonction_avec_argument_optionnel(arg1, opt2=10):\n",
    "    # arguments optionnels à la toute fin (aussi appelés keyword arguments)\n",
    "    return arg1 + opt2\n",
    "\n",
    "def fonction_qui_ne_fait_rien(arg1, arg2):\n",
    "    pass"
   ]
  },
  {
   "cell_type": "markdown",
   "id": "recognized-geometry",
   "metadata": {},
   "source": [
    "### 5 - Avancé : les lambdas"
   ]
  },
  {
   "cell_type": "markdown",
   "id": "seeing-thunder",
   "metadata": {},
   "source": [
    "Les lambdas sont des fonctions anonymes courtes. Très utiles en tant que fonction de callback. Selon PEP8, il ne faut pas affecter de lambda à une variable, autant utiliser une fonction dans ce cas. Je le fais quand même pour les soins de l'exemple."
   ]
  },
  {
   "cell_type": "code",
   "execution_count": 17,
   "id": "australian-label",
   "metadata": {},
   "outputs": [
    {
     "name": "stdout",
     "output_type": "stream",
     "text": [
      "16\n",
      "8\n",
      "5\n"
     ]
    }
   ],
   "source": [
    "f = lambda x: x**2    # lambda qui donne le carré d'un nombre\n",
    "print(f(4)) # affiche 16\n",
    "g = lambda x, y: x**y # lambda qui donne x puissance y\n",
    "print(g(2, 3))\n",
    "h = lambda: 2+3 # il peut aussi n'y avoir aucun paramètre\n",
    "print(h())"
   ]
  },
  {
   "cell_type": "code",
   "execution_count": 19,
   "id": "outdoor-married",
   "metadata": {},
   "outputs": [],
   "source": [
    "# Lambda qui \"mange\" tout ce qu'on peut lui donner... et ne fait rien.\n",
    "dummy = lambda *args, **kwargs: None\n",
    "dummy()\n",
    "dummy(2, \"bla\", [2, 4, 6, 8], nom=\"Juste\", prenom=\"LeBlanc\")"
   ]
  },
  {
   "cell_type": "code",
   "execution_count": 28,
   "id": "vietnamese-brief",
   "metadata": {},
   "outputs": [
    {
     "name": "stdout",
     "output_type": "stream",
     "text": [
      "[1, 2, 3, 4, 5, 6]\n",
      "[1, 4, 9, 16, 25, 36]\n"
     ]
    }
   ],
   "source": [
    "# La véritable utilité des lambdas\n",
    "u = [1, 2, 3, 4, 5, 6]\n",
    "v = list(map(lambda x: x**2, u))\n",
    "print(u)\n",
    "print(v) # chaque élément a été mis au carré"
   ]
  },
  {
   "cell_type": "markdown",
   "id": "minus-chemical",
   "metadata": {},
   "source": [
    "### 6 - Avancé : Les classes"
   ]
  },
  {
   "cell_type": "markdown",
   "id": "separated-percentage",
   "metadata": {},
   "source": [
    "Il n'y a pas de classes \"abstraites\" ou d'interface. Une classe peut hériter de plusieurs parents. Le mot clé <i>self</i> est utilisé par convention au lieu du <i>this</i> de Java. Le constructeur est <i>\\_\\_init\\_\\_(self, ...)</i> . Les méthodes d'instance ont pour premier paramètre <i>self</i>, qui doit <b>obligatoirement</b> être utilisé pour accéder aux variables de l'instance. Pour appeler les méthodes de la classe parente, on peut passer par la classe parente elle-même, sans oublier de passer <i>self</i> comme premier argument. On peut aussi utiliser <i>super()</i>, mais ça devient compliqué en cas de multi-héritage (ne pas passer <i>self</i> avec l'utilisation de <i>super</i>)."
   ]
  },
  {
   "cell_type": "markdown",
   "id": "fallen-graphic",
   "metadata": {},
   "source": [
    "Il n'y a pas vraiment de notion de public, protected ou private, toutes les variables et méthodes sont accessibles. On peut préciser avec un ou de deux underscores, mais c'est indicatif."
   ]
  },
  {
   "cell_type": "code",
   "execution_count": 47,
   "id": "organized-boating",
   "metadata": {},
   "outputs": [
    {
     "name": "stdout",
     "output_type": "stream",
     "text": [
      "7\n",
      "5\n",
      "protected\n",
      "private\n",
      "0\n"
     ]
    }
   ],
   "source": [
    "class Parent:\n",
    "    je_suis_une_variable_statique = 5\n",
    "    \n",
    "    def __init__(self, arg1, arg2):\n",
    "        self.var1 = arg1\n",
    "        self.var2 = arg2\n",
    "        self._protected = \"protected\"\n",
    "        self.__private = \"private\"\n",
    "    \n",
    "    def une_methode(self, arg1):\n",
    "        self.var1 += arg1\n",
    "    \n",
    "    def une_methode_statique(arg1, arg2):\n",
    "        return arg1 + arg2\n",
    "    \n",
    "    def une_methode_abstraite(self):\n",
    "        pass # abstract car non implémentée\n",
    "\n",
    "p = Parent(2, 3) # possède une méthode \"abstraite\" mais peut être instanciée\n",
    "p.une_methode(5) # self vaut automatiquement p, arg1 vaut 5\n",
    "print(p.var1)    # accès à une variable membre, affiche 7 (car 2+5)\n",
    "print(Parent.je_suis_une_variable_statique)\n",
    "\n",
    "print(p._protected)\n",
    "# print(p.__private)      # erreur : pas d'accès car privé, donc c'est bon ?\n",
    "print(p._Parent__private) # pas vraiment privé en fait, elle a juste \"changé de nom\" : c'est le name mangling\n",
    "\n",
    "class Enfant(Parent): # héritage : Enfant hérite de Parent\n",
    "    def __init__(self, arg1, arg2):\n",
    "        Parent.__init__(self, arg1, arg2) # super, NE PAS OUBLIER self\n",
    "        # ou encore super().__init__(arg1, arg2) : pas besoin de passer self en argument ici.\n",
    "    \n",
    "    def une_methode(self, arg1): # overload\n",
    "        Parent.une_methode(self, arg1) # super, NE PAS OUBLIER self\n",
    "        # ou encore super().une_methode(arg1)\n",
    "        self.var1 = 0\n",
    "    \n",
    "    # n'est pas obligée de définir une_methode_abstraite()\n",
    "\n",
    "e = Enfant(2, 3)\n",
    "e.une_methode(5)\n",
    "print(e.var1) # affiche 0 (car overload)\n",
    "\n",
    "# un underscore en préfixe : ne sera pas importé en faisant : from mon_module import *\n",
    "# mais le sera avec : import mon_module\n",
    "def _me_vois_tu():\n",
    "    pass"
   ]
  },
  {
   "cell_type": "markdown",
   "id": "modern-vancouver",
   "metadata": {},
   "source": [
    "### 7 - Avancé : les exceptions"
   ]
  },
  {
   "cell_type": "markdown",
   "id": "patient-acoustic",
   "metadata": {},
   "source": [
    "Python gère aussi les exceptions ! voir https://docs.python.org/fr/3.5/tutorial/errors.html"
   ]
  },
  {
   "cell_type": "code",
   "execution_count": 15,
   "id": "vocational-bridge",
   "metadata": {},
   "outputs": [
    {
     "name": "stdout",
     "output_type": "stream",
     "text": [
      "Une erreur est survenue : message ici\n"
     ]
    }
   ],
   "source": [
    "# Pour créer sa propre exception, il n'y a rien besoin de plus.\n",
    "class MonException(Exception):\n",
    "    pass\n",
    "\n",
    "# Capture d'une exception\n",
    "b = 0\n",
    "try:\n",
    "    a = 3 / b\n",
    "    # ou encore : raise MonException(\"message ici\")\n",
    "except (ZeroDivisionError, MonException) as e: # pas besoin de parenthèses s'il n'y a qu'une seule exception\n",
    "    print(\"Une erreur est survenue :\", e)\n",
    "else:\n",
    "    print(\"tout va bien\")"
   ]
  },
  {
   "cell_type": "markdown",
   "id": "dramatic-recorder",
   "metadata": {},
   "source": [
    "### 8 - Avancé : list comprehension"
   ]
  },
  {
   "cell_type": "markdown",
   "id": "thirty-monday",
   "metadata": {},
   "source": [
    "Permet de définir des listes avec des one-liners. Remplace basiquement une boucle for."
   ]
  },
  {
   "cell_type": "code",
   "execution_count": 30,
   "id": "thrown-shame",
   "metadata": {},
   "outputs": [
    {
     "name": "stdout",
     "output_type": "stream",
     "text": [
      "[1, 4, 9, 16, 25, 36, 49, 64, 81]\n",
      "[2, 4, 6, 8]\n",
      "['a11', 'a12', 'a13', 'a21', 'a22', 'a23']\n"
     ]
    }
   ],
   "source": [
    "u = [1, 2, 3, 4, 5, 6, 7, 8, 9]\n",
    "v = [e**2 for e in u] # chaque élément est mis au carré\n",
    "print(v)\n",
    "w = [e for e in u if e%2 == 0] # chaque élément pair de u\n",
    "print(w)\n",
    "\n",
    "matrix = [\n",
    "    [\"a11\", \"a12\", \"a13\"], \n",
    "    [\"a21\", \"a22\", \"a23\"]]\n",
    "x = [e for ligne in matrix for e in ligne]\n",
    "print(x) # affiche ['a11', 'a12', 'a13', 'a21', 'a22', 'a23']"
   ]
  },
  {
   "cell_type": "markdown",
   "id": "civil-volleyball",
   "metadata": {},
   "source": [
    "Il existe aussi des dictionary comprehension."
   ]
  },
  {
   "cell_type": "markdown",
   "id": "august-chemical",
   "metadata": {},
   "source": [
    "### 9 - Avancé : l'underscore"
   ]
  },
  {
   "cell_type": "markdown",
   "id": "charitable-lafayette",
   "metadata": {},
   "source": [
    "En plus d'être utilisé pour dénoter une variable protected ou private, l'underscore peut être utilisé quand on se fiche éperdument d'une variable."
   ]
  },
  {
   "cell_type": "code",
   "execution_count": 9,
   "id": "capital-ghana",
   "metadata": {},
   "outputs": [
    {
     "name": "stdout",
     "output_type": "stream",
     "text": [
      "2 5\n",
      "3\n",
      "Je paye mes courses 5.75 euros.\n",
      "[1.25, 1.0, 3.5]\n"
     ]
    }
   ],
   "source": [
    "t = (2, 3, 5)\n",
    "a, _, c = t # on n'a pas besoin du 2ème élément\n",
    "print(a, c)\n",
    "print(_) # mais on peut quand même l'utiliser, c'est juste visuel\n",
    "\n",
    "panier = [(\"pomme\",1.25), (\"pain\", 1.00), (\"sandwich\", 3.50)]\n",
    "cout_total = 0\n",
    "for _, cout in panier: # on se fiche du nom de l'article, on ne s'intéresse qu'au prix\n",
    "    cout_total += cout\n",
    "print(\"Je paye mes courses\", cout_total, \"euros.\")\n",
    "\n",
    "prix = [p for _, p in panier] # liste des prix\n",
    "print(prix)"
   ]
  },
  {
   "cell_type": "markdown",
   "id": "loved-sandwich",
   "metadata": {},
   "source": [
    "### 10 - Avancé : manipulation de listes"
   ]
  },
  {
   "cell_type": "markdown",
   "id": "statewide-senegal",
   "metadata": {},
   "source": [
    "Il existe certaines fonctions pour manipuler les listes, tuples, strings."
   ]
  },
  {
   "cell_type": "code",
   "execution_count": 10,
   "id": "distinguished-kruger",
   "metadata": {},
   "outputs": [
    {
     "name": "stdout",
     "output_type": "stream",
     "text": [
      "[1, 4, 9, 16]\n",
      "indice 0 élément a\n",
      "indice 1 élément z\n",
      "indice 2 élément e\n",
      "indice 3 élément r\n",
      "1 a\n",
      "2 z\n",
      "3 e\n",
      "4 r\n"
     ]
    }
   ],
   "source": [
    "u = list(range(1,5)) # u vaut [1, 2, 3, 4]\n",
    "v = \"azer\"\n",
    "\n",
    "# map : applique une fonction à une liste et retourne le résultat au fur et à mesure (avec yield)\n",
    "w = list(map(lambda x: x**2, u))\n",
    "print(w)\n",
    "\n",
    "# enumerate : retourne au fur et à mesure (yield) les couples (indice, élément) d'une liste\n",
    "for i,e in enumerate(v):\n",
    "    print(\"indice\", i, \"élément\", e)\n",
    "\n",
    "# zip : retourne au fur et à mesure (yield) les couples (e1, e2) avec e1 dans la 1ere liste et e2 dans la deuxième\n",
    "#       tels que e1 et e2 ont le même indice dans leur liste respective.\n",
    "# attention : s'arrête dès qu'il arrive à la fin d'une des deux listes\n",
    "for a, b in zip(u, v):\n",
    "    print(a, b)"
   ]
  },
  {
   "cell_type": "markdown",
   "id": "stable-joining",
   "metadata": {},
   "source": [
    "### 11 - Avancé : la documentation"
   ]
  },
  {
   "cell_type": "markdown",
   "id": "maritime-revision",
   "metadata": {},
   "source": [
    "Contrairement à Java, la documentation en python se place après l'élément documenté. Sinon ça reste semblable."
   ]
  },
  {
   "cell_type": "markdown",
   "id": "rental-worse",
   "metadata": {},
   "source": [
    "Il y a plusieurs styles de documentation : https://download.tuxfamily.org/jdhp/pdf/documentation_python.pdf"
   ]
  },
  {
   "cell_type": "code",
   "execution_count": 12,
   "id": "eight-denial",
   "metadata": {},
   "outputs": [],
   "source": [
    "# style pillow\n",
    "class Personne:\n",
    "    \"\"\" Classe représentant une personne\n",
    "    \n",
    "    nom : le nom\n",
    "    prenom : le prénom \"\"\"\n",
    "    \n",
    "    def __init__(self, nom, prenom):\n",
    "        self.nom = nom\n",
    "        self.prenom = prenom\n",
    "    \n",
    "    def se_presenter(self, relance=\"Et toi ?\"):\n",
    "        \"\"\" Description brève sur une ligne.\n",
    "        \n",
    "        Un pavé ici\n",
    "        \n",
    "        :param relance: string à ajouter après s'être présenté\n",
    "        :return: le string de la présentation complète (on peut aussi utiliser returns)\n",
    "        :exception RuntimeError: si jamais ça pète (on peut aussi utiliser raise ou raises) \"\"\"\n",
    "        return \"Je m'appelle \" + self.nom + \" \" + self.prenom + \". \" + relance\n",
    "\n",
    "# style numpy\n",
    "def une_fonction(a, b):\n",
    "    \"\"\" blabla\n",
    "    pavé\n",
    "    \n",
    "    Parameters\n",
    "    ----------\n",
    "    a : int\n",
    "        description ici\n",
    "    b : int\n",
    "        description ici\n",
    "        en plusieurs lignes, pour l'exemple\n",
    "    \n",
    "    Returns\n",
    "    -------\n",
    "    int\n",
    "        description ici\n",
    "    \n",
    "    Raises\n",
    "    ------\n",
    "    RuntimeError\n",
    "        Sait-on jamais, mais c'est juste pour l'exemple.\n",
    "    \"\"\"\n",
    "    return a+b"
   ]
  },
  {
   "cell_type": "markdown",
   "id": "interstate-drawing",
   "metadata": {},
   "source": [
    "### 12 - Avancé : print + Python 3.6 et les f-strings"
   ]
  },
  {
   "cell_type": "code",
   "execution_count": 17,
   "id": "capable-killing",
   "metadata": {},
   "outputs": [
    {
     "name": "stdout",
     "output_type": "stream",
     "text": [
      "azerty\n",
      "az;23;tyFIN\n",
      "Je veut afficher \\n sans passer à la ligne.\n",
      "Je sais que 2 plus 3 font 5.\n",
      "Je sais que 4 plus 3 font 7.\n"
     ]
    },
    {
     "name": "stderr",
     "output_type": "stream",
     "text": [
      "Je veux afficher une erreur\n"
     ]
    }
   ],
   "source": [
    "s = \"azerty\"\n",
    "print(s) # affiche azerty, comme on peut s'y attendre\n",
    "\n",
    "a, b, c = \"az\", 23, \"ty\"\n",
    "print(a, b, c, sep=\";\", end=\"FIN\\n\") # affiche \"az;23;tyFIN\" et saute à la ligne, sep entre chaque donnée, end à la fin\n",
    "\n",
    "import sys\n",
    "print(\"Je veux afficher une erreur\", file=sys.stderr) # écrit dans stderr\n",
    "\n",
    "# les raw strings permettent de ne pas interpréter les antislashs comme des caractères d'échappement.\n",
    "# Sans utiliser de raw string, on peut aussi échapper l'antislash, ce qui donnerait \"... \\\\n ...\"\n",
    "print(r\"Je veut afficher \\n sans passer à la ligne.\")\n",
    "\n",
    "# remplace chaque {} par un élément\n",
    "# on peut utiliser des keyword arguments pour être plus explicite.\n",
    "print(\"Je sais que {} plus {} font {somme}.\".format(2, 3, somme=2+3))\n",
    "\n",
    "# Python 3.6\n",
    "# f-strings : permet d'utiliser directement des variables ou des expressions\n",
    "a = 4\n",
    "print(f\"Je sais que {a} plus {3} font {a+3}.\")"
   ]
  },
  {
   "cell_type": "markdown",
   "id": "plastic-xerox",
   "metadata": {},
   "source": [
    "### 13 - Avancé : Python 3.8 et le module typing"
   ]
  },
  {
   "cell_type": "markdown",
   "id": "incoming-louisiana",
   "metadata": {},
   "source": [
    "Le module <i>typing</i> permet depuis python 3.8 de préciser le type des variables en dehors de la documentation. Ce n'est pas contraignant : vous pouvez toujours mettre n'importe quoi dedans, c'est juste pour mettre la puce à l'oreille quand on se trompe. Par contre, ça demande d'importer le module <i>typing</i> à chaque fois."
   ]
  },
  {
   "cell_type": "code",
   "execution_count": 11,
   "id": "reliable-apartment",
   "metadata": {},
   "outputs": [
    {
     "name": "stdout",
     "output_type": "stream",
     "text": [
      "[1, 'az', 4]\n"
     ]
    }
   ],
   "source": [
    "from typing import *\n",
    "\n",
    "def une_fonction(a: int, b: str) -> Tuple[int, str]:\n",
    "    return (a, b)\n",
    "\n",
    "def fonction_avant(a, b): # a et b de type Any, valeur de retour de type Any\n",
    "    return (a,b)\n",
    "\n",
    "def ne_retourne_rien(a: int) -> None:\n",
    "    print(a)\n",
    "\n",
    "Subset = List[int] # définition d'un \"nouveau type\"\n",
    "\n",
    "s: Subset = [1, 3, 4]\n",
    "s[1] = \"az\" # on peut toujours faire n'importe quoi\n",
    "print(s)"
   ]
  },
  {
   "cell_type": "code",
   "execution_count": null,
   "id": "entitled-railway",
   "metadata": {},
   "outputs": [],
   "source": []
  }
 ],
 "metadata": {
  "kernelspec": {
   "display_name": "Python 3",
   "language": "python",
   "name": "python3"
  },
  "language_info": {
   "codemirror_mode": {
    "name": "ipython",
    "version": 3
   },
   "file_extension": ".py",
   "mimetype": "text/x-python",
   "name": "python",
   "nbconvert_exporter": "python",
   "pygments_lexer": "ipython3",
   "version": "3.8.0"
  }
 },
 "nbformat": 4,
 "nbformat_minor": 5
}
